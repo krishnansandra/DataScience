{
 "cells": [
  {
   "cell_type": "code",
   "execution_count": 22,
   "id": "a80caa4e-7ba5-48b5-9832-04b0613f333c",
   "metadata": {},
   "outputs": [
    {
     "name": "stdin",
     "output_type": "stream",
     "text": [
      "Enter the string hrllo\n"
     ]
    },
    {
     "name": "stdout",
     "output_type": "stream",
     "text": [
      "5\n"
     ]
    }
   ],
   "source": [
    "\n",
    "\n",
    "def count(s):\n",
    "    count=0\n",
    "    for c in s:\n",
    "\n",
    "        count=count+1\n",
    "\n",
    "    print(count)\n",
    "\n",
    "\n",
    "s=str(input(\"Enter the string\")) \n",
    "count(s); \n"
   ]
  },
  {
   "cell_type": "code",
   "execution_count": 26,
   "id": "3e7456c3-5b24-4a13-902e-b03b9b56c5a4",
   "metadata": {},
   "outputs": [
    {
     "name": "stdin",
     "output_type": "stream",
     "text": [
      "Enterb the first number 30\n",
      "Enter the 2nd number 12\n"
     ]
    },
    {
     "name": "stdout",
     "output_type": "stream",
     "text": [
      "6\n"
     ]
    }
   ],
   "source": [
    "def gcd(a,b):\n",
    "    if(b==0):\n",
    "        return a\n",
    "    else:\n",
    "        return gcd(b,a%b)\n",
    "a=int(input(\"Enterb the first number\"))\n",
    "b=int(input(\"Enter the 2nd number\"))\n",
    "GCD=gcd(a,b)\n",
    "print(GCD)\n",
    "    "
   ]
  },
  {
   "cell_type": "code",
   "execution_count": null,
   "id": "2697bc69-6f4b-443e-8c7a-1638590f28bd",
   "metadata": {},
   "outputs": [],
   "source": [
    "def gcd(a,b):\n",
    "    if(a>b):\n",
    "        return a/b\n",
    "        a=b\n",
    "        b=a%b\n",
    "a=int(input(\"Enterb the first number\"))\n",
    "b=int(input(\"Enter the 2nd number\"))\n",
    "GCD=gcd(a,b)\n",
    "print(GCD)\n",
    "\n",
    "        "
   ]
  },
  {
   "cell_type": "code",
   "execution_count": null,
   "id": "92f8b1f2-5d7b-4410-8915-d0056501c30c",
   "metadata": {},
   "outputs": [],
   "source": []
  }
 ],
 "metadata": {
  "kernelspec": {
   "display_name": "Python [conda env:base] *",
   "language": "python",
   "name": "conda-base-py"
  },
  "language_info": {
   "codemirror_mode": {
    "name": "ipython",
    "version": 3
   },
   "file_extension": ".py",
   "mimetype": "text/x-python",
   "name": "python",
   "nbconvert_exporter": "python",
   "pygments_lexer": "ipython3",
   "version": "3.12.7"
  }
 },
 "nbformat": 4,
 "nbformat_minor": 5
}
