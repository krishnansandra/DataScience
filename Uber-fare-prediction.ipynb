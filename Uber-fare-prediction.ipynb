{
 "cells": [
  {
   "cell_type": "code",
   "execution_count": 1,
   "id": "cc31aa4f-9f2f-4e60-ae01-49d5da211613",
   "metadata": {},
   "outputs": [],
   "source": [
    "import pandas as pd   #for data manipulation and analysis\n",
    "import numpy as np    #for mathematical calculation\n",
    "import matplotlib as plt #for data visualization\n",
    "import seaborn as sns #for advanced data visualization\n"
   ]
  },
  {
   "cell_type": "code",
   "execution_count": 3,
   "id": "016b1fed-ac19-4bf0-ac39-abaaf367e2cc",
   "metadata": {},
   "outputs": [],
   "source": [
    "uber_data = pd.read_csv('uber.csv')\n"
   ]
  },
  {
   "cell_type": "code",
   "execution_count": 5,
   "id": "62456907-c54b-4bc8-8bbb-d20233fad1d5",
   "metadata": {},
   "outputs": [
    {
     "data": {
      "text/plain": [
       "{'Shape of the dataset': (200000, 9),\n",
       " 'Column Names': ['Unnamed: 0',\n",
       "  'key',\n",
       "  'fare_amount',\n",
       "  'pickup_datetime',\n",
       "  'pickup_longitude',\n",
       "  'pickup_latitude',\n",
       "  'dropoff_longitude',\n",
       "  'dropoff_latitude',\n",
       "  'passenger_count'],\n",
       " 'Data Types': {'Unnamed: 0': dtype('int64'),\n",
       "  'key': dtype('O'),\n",
       "  'fare_amount': dtype('float64'),\n",
       "  'pickup_datetime': dtype('O'),\n",
       "  'pickup_longitude': dtype('float64'),\n",
       "  'pickup_latitude': dtype('float64'),\n",
       "  'dropoff_longitude': dtype('float64'),\n",
       "  'dropoff_latitude': dtype('float64'),\n",
       "  'passenger_count': dtype('int64')},\n",
       " 'First Few Rows':    Unnamed: 0                            key  fare_amount  \\\n",
       " 0    24238194    2015-05-07 19:52:06.0000003          7.5   \n",
       " 1    27835199    2009-07-17 20:04:56.0000002          7.7   \n",
       " 2    44984355   2009-08-24 21:45:00.00000061         12.9   \n",
       " 3    25894730    2009-06-26 08:22:21.0000001          5.3   \n",
       " 4    17610152  2014-08-28 17:47:00.000000188         16.0   \n",
       " \n",
       "            pickup_datetime  pickup_longitude  pickup_latitude  \\\n",
       " 0  2015-05-07 19:52:06 UTC        -73.999817        40.738354   \n",
       " 1  2009-07-17 20:04:56 UTC        -73.994355        40.728225   \n",
       " 2  2009-08-24 21:45:00 UTC        -74.005043        40.740770   \n",
       " 3  2009-06-26 08:22:21 UTC        -73.976124        40.790844   \n",
       " 4  2014-08-28 17:47:00 UTC        -73.925023        40.744085   \n",
       " \n",
       "    dropoff_longitude  dropoff_latitude  passenger_count  \n",
       " 0         -73.999512         40.723217                1  \n",
       " 1         -73.994710         40.750325                1  \n",
       " 2         -73.962565         40.772647                1  \n",
       " 3         -73.965316         40.803349                3  \n",
       " 4         -73.973082         40.761247                5  }"
      ]
     },
     "execution_count": 5,
     "metadata": {},
     "output_type": "execute_result"
    }
   ],
   "source": [
    "data_overview = {\n",
    "    \"Shape of the dataset\": uber_data.shape,\n",
    "    \"Column Names\": uber_data.columns.tolist(),\n",
    "    \"Data Types\": uber_data.dtypes.to_dict(),\n",
    "    \"First Few Rows\": uber_data.head()\n",
    "}\n",
    "\n",
    "data_overview"
   ]
  },
  {
   "cell_type": "code",
   "execution_count": 7,
   "id": "83aa638c-ac92-4c7b-b1e5-b772d447dabb",
   "metadata": {},
   "outputs": [
    {
     "data": {
      "text/plain": [
       "(Unnamed: 0           0\n",
       " key                  0\n",
       " fare_amount          0\n",
       " pickup_datetime      0\n",
       " pickup_longitude     0\n",
       " pickup_latitude      0\n",
       " dropoff_longitude    1\n",
       " dropoff_latitude     1\n",
       " passenger_count      0\n",
       " dtype: int64,\n",
       "          Unnamed: 0    fare_amount  pickup_longitude  pickup_latitude  \\\n",
       " count  2.000000e+05  200000.000000     200000.000000    200000.000000   \n",
       " mean   2.771250e+07      11.359955        -72.527638        39.935885   \n",
       " std    1.601382e+07       9.901776         11.437787         7.720539   \n",
       " min    1.000000e+00     -52.000000      -1340.648410       -74.015515   \n",
       " 25%    1.382535e+07       6.000000        -73.992065        40.734796   \n",
       " 50%    2.774550e+07       8.500000        -73.981823        40.752592   \n",
       " 75%    4.155530e+07      12.500000        -73.967154        40.767158   \n",
       " max    5.542357e+07     499.000000         57.418457      1644.421482   \n",
       " \n",
       "        dropoff_longitude  dropoff_latitude  passenger_count  \n",
       " count      199999.000000     199999.000000    200000.000000  \n",
       " mean          -72.525292         39.923890         1.684535  \n",
       " std            13.117408          6.794829         1.385997  \n",
       " min         -3356.666300       -881.985513         0.000000  \n",
       " 25%           -73.991407         40.733823         1.000000  \n",
       " 50%           -73.980093         40.753042         1.000000  \n",
       " 75%           -73.963658         40.768001         2.000000  \n",
       " max          1153.572603        872.697628       208.000000  )"
      ]
     },
     "execution_count": 7,
     "metadata": {},
     "output_type": "execute_result"
    }
   ],
   "source": [
    "missing_values = uber_data.isnull().sum()\n",
    "summary_statistics = uber_data.describe()\n",
    "missing_values, summary_statistics"
   ]
  },
  {
   "cell_type": "code",
   "execution_count": 9,
   "id": "f873b25e-62e1-48b0-bef5-78de5ced827c",
   "metadata": {},
   "outputs": [
    {
     "name": "stdout",
     "output_type": "stream",
     "text": [
      "Missing values after cleaning: Unnamed: 0           0\n",
      "key                  0\n",
      "fare_amount          0\n",
      "pickup_datetime      0\n",
      "pickup_longitude     0\n",
      "pickup_latitude      0\n",
      "dropoff_longitude    0\n",
      "dropoff_latitude     0\n",
      "passenger_count      0\n",
      "dtype: int64\n"
     ]
    }
   ],
   "source": [
    "uber_data_cleaned = uber_data.dropna()\n",
    "print(\"Missing values after cleaning:\", uber_data_cleaned.isnull().sum())"
   ]
  },
  {
   "cell_type": "code",
   "execution_count": 11,
   "id": "276c7389-6adc-4c7b-aecd-2b20dedaff0d",
   "metadata": {},
   "outputs": [],
   "source": [
    "uber_data_cleaned = uber_data_cleaned[(uber_data_cleaned['fare_amount'] > 0) & \n",
    "                                      (uber_data_cleaned['fare_amount'] <= 200)]"
   ]
  },
  {
   "cell_type": "code",
   "execution_count": 13,
   "id": "97448198-f397-4637-b2be-97e5f3b047df",
   "metadata": {},
   "outputs": [],
   "source": [
    "valid_lat = (uber_data_cleaned['pickup_latitude'].between(-90, 90)) & \\\n",
    "            (uber_data_cleaned['dropoff_latitude'].between(-90, 90))\n",
    "valid_lon = (uber_data_cleaned['pickup_longitude'].between(-180, 180)) & \\\n",
    "            (uber_data_cleaned['dropoff_longitude'].between(-180, 180))\n",
    "uber_data_cleaned = uber_data_cleaned[valid_lat & valid_lon]"
   ]
  },
  {
   "cell_type": "code",
   "execution_count": 15,
   "id": "ee35b627-e465-416e-82fa-4b9489311cc1",
   "metadata": {},
   "outputs": [],
   "source": [
    "uber_data_cleaned = uber_data_cleaned[(uber_data_cleaned['passenger_count'] > 0) & \n",
    "                                      (uber_data_cleaned['passenger_count'] <= 6)]"
   ]
  },
  {
   "cell_type": "code",
   "execution_count": 17,
   "id": "d0e355b1-324a-40b6-8caa-ab65176fe23f",
   "metadata": {},
   "outputs": [],
   "source": [
    "uber_data_cleaned['pickup_datetime'] = pd.to_datetime(uber_data_cleaned['pickup_datetime'])\n",
    "uber_data_cleaned['pickup_hour'] = uber_data_cleaned['pickup_datetime'].dt.hour\n",
    "uber_data_cleaned['pickup_day'] = uber_data_cleaned['pickup_datetime'].dt.day\n",
    "uber_data_cleaned['pickup_month'] = uber_data_cleaned['pickup_datetime'].dt.month\n",
    "uber_data_cleaned['pickup_year'] = uber_data_cleaned['pickup_datetime'].dt.year"
   ]
  },
  {
   "cell_type": "code",
   "execution_count": 19,
   "id": "b422d7e2-3694-408c-8ba4-8c8084a9a88f",
   "metadata": {},
   "outputs": [
    {
     "name": "stdout",
     "output_type": "stream",
     "text": [
      "Defaulting to user installation because normal site-packages is not writeable\n",
      "Requirement already satisfied: geopy in c:\\users\\sandra krishnan\\appdata\\roaming\\python\\python312\\site-packages (2.4.1)\n",
      "Requirement already satisfied: geographiclib<3,>=1.52 in c:\\users\\sandra krishnan\\appdata\\roaming\\python\\python312\\site-packages (from geopy) (2.0)\n"
     ]
    }
   ],
   "source": [
    "!pip install geopy\n",
    "from geopy.distance import geodesic\n",
    "def calculate_distance(row):\n",
    "    pickup = (row['pickup_latitude'], row['pickup_longitude'])\n",
    "    dropoff = (row['dropoff_latitude'], row['dropoff_longitude'])\n",
    "    return geodesic(pickup, dropoff).km\n",
    "uber_data_cleaned['trip_distance_km'] = uber_data_cleaned.apply(calculate_distance, axis=1)"
   ]
  },
  {
   "cell_type": "code",
   "execution_count": 21,
   "id": "e457c5f3-e9f5-45d6-a942-d225395c459c",
   "metadata": {},
   "outputs": [],
   "source": [
    "from sklearn.model_selection import train_test_split\n",
    "\n",
    "features = uber_data_cleaned[['trip_distance_km', 'pickup_hour', 'pickup_day', \n",
    "                               'pickup_month', 'pickup_year', 'passenger_count']]\n",
    "target = uber_data_cleaned['fare_amount']\n",
    "\n",
    "X_train, X_test, y_train, y_test = train_test_split(features, target, test_size=0.2, random_state=42)\n"
   ]
  },
  {
   "cell_type": "code",
   "execution_count": 23,
   "id": "e878402d-f3f5-4d22-8a4a-54caa5707fb7",
   "metadata": {},
   "outputs": [],
   "source": [
    "from sklearn.linear_model import LinearRegression\n",
    "\n",
    "model = LinearRegression()\n",
    "\n",
    "model.fit(X_train, y_train)\n",
    "\n",
    "y_pred = model.predict(X_test)"
   ]
  },
  {
   "cell_type": "code",
   "execution_count": 25,
   "id": "568fa2de-40b4-427f-992d-3b3a5d0781ba",
   "metadata": {},
   "outputs": [
    {
     "name": "stdout",
     "output_type": "stream",
     "text": [
      "MAE: 5.965913218645471, MSE: 93.31583300704345, RMSE: 9.660012060398447\n",
      "R² Score: 0.015022713984899516\n"
     ]
    }
   ],
   "source": [
    "from sklearn.metrics import mean_absolute_error, mean_squared_error, r2_score\n",
    "\n",
    "mae = mean_absolute_error(y_test, y_pred)\n",
    "mse = mean_squared_error(y_test, y_pred)\n",
    "rmse = mse ** 0.5\n",
    "\n",
    "print(f\"MAE: {mae}, MSE: {mse}, RMSE: {rmse}\")\n",
    "r2 = r2_score(y_test, y_pred)\n",
    "print(f\"R² Score: {r2}\")"
   ]
  },
  {
   "cell_type": "code",
   "execution_count": 27,
   "id": "c43b949a-a709-480e-b112-349ec71a8972",
   "metadata": {},
   "outputs": [
    {
     "name": "stdout",
     "output_type": "stream",
     "text": [
      "Defaulting to user installation because normal site-packages is not writeable\n",
      "Requirement already satisfied: xgboost in c:\\users\\sandra krishnan\\appdata\\roaming\\python\\python312\\site-packages (3.0.0)\n",
      "Requirement already satisfied: numpy in c:\\programdata\\anaconda3\\lib\\site-packages (from xgboost) (1.26.4)\n",
      "Requirement already satisfied: scipy in c:\\programdata\\anaconda3\\lib\\site-packages (from xgboost) (1.13.1)\n"
     ]
    }
   ],
   "source": [
    "!pip install xgboost"
   ]
  },
  {
   "cell_type": "code",
   "execution_count": 29,
   "id": "7cae1f92-f2b7-4024-a5e9-05a3a3aa271d",
   "metadata": {},
   "outputs": [
    {
     "data": {
      "text/html": [
       "<div>\n",
       "<style scoped>\n",
       "    .dataframe tbody tr th:only-of-type {\n",
       "        vertical-align: middle;\n",
       "    }\n",
       "\n",
       "    .dataframe tbody tr th {\n",
       "        vertical-align: top;\n",
       "    }\n",
       "\n",
       "    .dataframe thead th {\n",
       "        text-align: right;\n",
       "    }\n",
       "</style>\n",
       "<table border=\"1\" class=\"dataframe\">\n",
       "  <thead>\n",
       "    <tr style=\"text-align: right;\">\n",
       "      <th></th>\n",
       "      <th>MAE</th>\n",
       "      <th>MSE</th>\n",
       "      <th>RMSE</th>\n",
       "      <th>R²</th>\n",
       "    </tr>\n",
       "  </thead>\n",
       "  <tbody>\n",
       "    <tr>\n",
       "      <th>Gradient Boosting</th>\n",
       "      <td>2.216255</td>\n",
       "      <td>22.282866</td>\n",
       "      <td>4.720473</td>\n",
       "      <td>0.764798</td>\n",
       "    </tr>\n",
       "    <tr>\n",
       "      <th>Random Forest</th>\n",
       "      <td>2.393929</td>\n",
       "      <td>24.668508</td>\n",
       "      <td>4.966740</td>\n",
       "      <td>0.739616</td>\n",
       "    </tr>\n",
       "    <tr>\n",
       "      <th>XGBoost</th>\n",
       "      <td>2.315372</td>\n",
       "      <td>27.132921</td>\n",
       "      <td>5.208927</td>\n",
       "      <td>0.713604</td>\n",
       "    </tr>\n",
       "    <tr>\n",
       "      <th>Decision Tree</th>\n",
       "      <td>3.263503</td>\n",
       "      <td>49.016530</td>\n",
       "      <td>7.001181</td>\n",
       "      <td>0.482615</td>\n",
       "    </tr>\n",
       "    <tr>\n",
       "      <th>Linear Regression</th>\n",
       "      <td>5.965913</td>\n",
       "      <td>93.315833</td>\n",
       "      <td>9.660012</td>\n",
       "      <td>0.015023</td>\n",
       "    </tr>\n",
       "  </tbody>\n",
       "</table>\n",
       "</div>"
      ],
      "text/plain": [
       "                        MAE        MSE      RMSE        R²\n",
       "Gradient Boosting  2.216255  22.282866  4.720473  0.764798\n",
       "Random Forest      2.393929  24.668508  4.966740  0.739616\n",
       "XGBoost            2.315372  27.132921  5.208927  0.713604\n",
       "Decision Tree      3.263503  49.016530  7.001181  0.482615\n",
       "Linear Regression  5.965913  93.315833  9.660012  0.015023"
      ]
     },
     "execution_count": 29,
     "metadata": {},
     "output_type": "execute_result"
    }
   ],
   "source": [
    "from sklearn.tree import DecisionTreeRegressor\n",
    "from sklearn.ensemble import RandomForestRegressor, GradientBoostingRegressor\n",
    "from xgboost import XGBRegressor\n",
    "models = {\n",
    "    \"Linear Regression\": LinearRegression(),\n",
    "    \"Decision Tree\": DecisionTreeRegressor(random_state=42),\n",
    "    \"Random Forest\": RandomForestRegressor(random_state=42),\n",
    "    \"Gradient Boosting\": GradientBoostingRegressor(random_state=42),\n",
    "    \"XGBoost\": XGBRegressor(random_state=42)\n",
    "}\n",
    "\n",
    "\n",
    "results = {}\n",
    "for model_name, model in models.items():\n",
    "   \n",
    "    model.fit(X_train, y_train)\n",
    "    \n",
    "    y_pred_model = model.predict(X_test)\n",
    "    \n",
    "    mae = mean_absolute_error(y_test, y_pred_model)\n",
    "    mse = mean_squared_error(y_test, y_pred_model)\n",
    "    rmse = mse ** 0.5\n",
    "    r2 = r2_score(y_test, y_pred_model)\n",
    "    \n",
    "    results[model_name] = {\n",
    "        \"MAE\": mae,\n",
    "        \"MSE\": mse,\n",
    "        \"RMSE\": rmse,\n",
    "        \"R²\": r2\n",
    "    }\n",
    "\n",
    "results_df = pd.DataFrame(results).T\n",
    "results_df.sort_values(by=\"R²\", ascending=False)\n"
   ]
  },
  {
   "cell_type": "code",
   "execution_count": 31,
   "id": "c407280a-35b9-4150-a226-34b73b733a1c",
   "metadata": {},
   "outputs": [
    {
     "name": "stdout",
     "output_type": "stream",
     "text": [
      "Fitting 3 folds for each of 20 candidates, totalling 60 fits\n",
      "Best Parameters: {'n_estimators': 250, 'min_samples_split': 5, 'min_samples_leaf': 4, 'max_depth': 5, 'learning_rate': 0.05}\n",
      "Best MAE: 2.187402483017015\n"
     ]
    }
   ],
   "source": [
    "from sklearn.model_selection import RandomizedSearchCV\n",
    "import numpy as np\n",
    "\n",
    "param_dist = {\n",
    "    'n_estimators': np.arange(100, 301, 50),\n",
    "    'learning_rate': [0.01, 0.05, 0.1],\n",
    "    'max_depth': [3, 5, 7],\n",
    "    'min_samples_split': [2, 5, 10],\n",
    "    'min_samples_leaf': [1, 2, 4]\n",
    "}\n",
    "\n",
    "random_search = RandomizedSearchCV(\n",
    "    estimator=GradientBoostingRegressor(random_state=42),\n",
    "    param_distributions=param_dist,\n",
    "    scoring='neg_mean_absolute_error',\n",
    "    n_iter=20,  # Number of random combinations to test\n",
    "    cv=3,\n",
    "    verbose=2,\n",
    "    n_jobs=-1,\n",
    "    random_state=42\n",
    ")\n",
    "random_search.fit(X_train, y_train)\n",
    "best_params = random_search.best_params_\n",
    "best_score = -random_search.best_score_  # Convert to positive\n",
    "print(\"Best Parameters:\", best_params)\n",
    "print(\"Best MAE:\", best_score)"
   ]
  },
  {
   "cell_type": "code",
   "execution_count": 32,
   "id": "f08af2bf-36f5-4273-a236-6bb75f1a1137",
   "metadata": {},
   "outputs": [
    {
     "name": "stdout",
     "output_type": "stream",
     "text": [
      "Final MAE: 2.1928612141312693\n",
      "Final MSE: 22.013900544485026\n",
      "Final RMSE: 4.691897328851626\n",
      "Final R²: 0.7676365166104603\n"
     ]
    }
   ],
   "source": [
    "final_model = GradientBoostingRegressor(\n",
    "    n_estimators=250,\n",
    "    min_samples_split=5,\n",
    "    min_samples_leaf=4,\n",
    "    max_depth=5,\n",
    "    learning_rate=0.05,\n",
    "    random_state=42\n",
    ")\n",
    "\n",
    "final_model.fit(X_train, y_train)\n",
    "final_y_pred = final_model.predict(X_test)\n",
    "final_mae = mean_absolute_error(y_test, final_y_pred)\n",
    "final_mse = mean_squared_error(y_test, final_y_pred)\n",
    "final_rmse = final_mse ** 0.5\n",
    "final_r2 = r2_score(y_test, final_y_pred)\n",
    "print(f\"Final MAE: {final_mae}\")\n",
    "print(f\"Final MSE: {final_mse}\")\n",
    "print(f\"Final RMSE: {final_rmse}\")\n",
    "print(f\"Final R²: {final_r2}\")"
   ]
  },
  {
   "cell_type": "code",
   "execution_count": null,
   "id": "b8729320-4508-41af-9446-8c9d22b39252",
   "metadata": {},
   "outputs": [],
   "source": []
  }
 ],
 "metadata": {
  "kernelspec": {
   "display_name": "Python [conda env:base] *",
   "language": "python",
   "name": "conda-base-py"
  },
  "language_info": {
   "codemirror_mode": {
    "name": "ipython",
    "version": 3
   },
   "file_extension": ".py",
   "mimetype": "text/x-python",
   "name": "python",
   "nbconvert_exporter": "python",
   "pygments_lexer": "ipython3",
   "version": "3.12.7"
  }
 },
 "nbformat": 4,
 "nbformat_minor": 5
}
